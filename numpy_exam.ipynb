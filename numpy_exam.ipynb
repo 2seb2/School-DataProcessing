{
 "cells": [
  {
   "cell_type": "code",
   "execution_count": 1,
   "id": "7567aa0c-a220-42ec-8310-607411cb3a23",
   "metadata": {},
   "outputs": [],
   "source": [
    "import numpy as np"
   ]
  },
  {
   "cell_type": "code",
   "execution_count": 2,
   "id": "9d5b300e-fd6d-4878-90d5-766af83ea81f",
   "metadata": {},
   "outputs": [
    {
     "name": "stdout",
     "output_type": "stream",
     "text": [
      "[0, 1, 2, 3, 4, 5]\n"
     ]
    }
   ],
   "source": [
    "data1 = [0, 1, 2, 3, 4, 5]\n",
    "print(data1)"
   ]
  },
  {
   "cell_type": "code",
   "execution_count": 3,
   "id": "8f3decde-9147-4c65-9e3b-f60678764e41",
   "metadata": {},
   "outputs": [
    {
     "name": "stdout",
     "output_type": "stream",
     "text": [
      "[0 1 2 3 4 5]\n"
     ]
    }
   ],
   "source": [
    "a1 = np.array(data1)\n",
    "print(a1)"
   ]
  },
  {
   "cell_type": "code",
   "execution_count": 4,
   "id": "1280da10-6af8-47e8-9245-6537bf5c0925",
   "metadata": {},
   "outputs": [
    {
     "name": "stdout",
     "output_type": "stream",
     "text": [
      "[0.  1.  2.  3.  4.  5.5]\n"
     ]
    }
   ],
   "source": [
    "data2 = [0, 1, 2, 3, 4, 5.5]\n",
    "a2 = np.array(data2)\n",
    "print(a2)"
   ]
  },
  {
   "cell_type": "code",
   "execution_count": 5,
   "id": "7445134f-e4b3-4dd2-8f79-2b1d068e5452",
   "metadata": {},
   "outputs": [
    {
     "name": "stdout",
     "output_type": "stream",
     "text": [
      "int32\n"
     ]
    }
   ],
   "source": [
    "print(a1.dtype)"
   ]
  },
  {
   "cell_type": "code",
   "execution_count": 6,
   "id": "6515a356-fbed-4abd-9b80-910bb7a823fe",
   "metadata": {},
   "outputs": [
    {
     "name": "stdout",
     "output_type": "stream",
     "text": [
      "float64\n"
     ]
    }
   ],
   "source": [
    "print(a2.dtype)"
   ]
  },
  {
   "cell_type": "code",
   "execution_count": 7,
   "id": "3fab7c06-1898-49b9-bbcd-358a5f1b3f12",
   "metadata": {},
   "outputs": [
    {
     "name": "stdout",
     "output_type": "stream",
     "text": [
      "[[1, 2, 3], [4, 5, 6], [7, 8, 9]]\n",
      "[[1 2 3]\n",
      " [4 5 6]\n",
      " [7 8 9]]\n"
     ]
    }
   ],
   "source": [
    "data3 = [[1, 2, 3], [4, 5, 6], [7, 8, 9]]\n",
    "print(data3)\n",
    "a3 = np.array([[1, 2, 3], [4, 5, 6], [7, 8, 9]])\n",
    "print(a3)"
   ]
  },
  {
   "cell_type": "code",
   "execution_count": 8,
   "id": "28bbe05d-7f62-4575-9533-7266c841fe4a",
   "metadata": {},
   "outputs": [
    {
     "name": "stdout",
     "output_type": "stream",
     "text": [
      "[0 2 4 6 8]\n",
      "[1 2 3 4 5 6 7 8 9]\n",
      "[0 1 2 3 4]\n"
     ]
    }
   ],
   "source": [
    "a4 = np.arange(0, 10, 2)\n",
    "a5 = np.arange(1, 10)\n",
    "a6 = np.arange(5)\n",
    "\n",
    "print(a4)\n",
    "print(a5)\n",
    "print(a6)"
   ]
  },
  {
   "cell_type": "code",
   "execution_count": 13,
   "id": "c76d6c13-6ddf-4d53-92a8-abde0ee00f30",
   "metadata": {},
   "outputs": [
    {
     "name": "stdout",
     "output_type": "stream",
     "text": [
      "[[ 0  1  2]\n",
      " [ 3  4  5]\n",
      " [ 6  7  8]\n",
      " [ 9 10 11]]\n",
      "====================\n",
      "(4, 3)\n"
     ]
    }
   ],
   "source": [
    "a7 = np.arange(12).reshape(4, 3)\n",
    "print(a7)\n",
    "print('='*20)\n",
    "print(a7.shape)\n",
    "# a8 = np.arange(11).reshape(4, 3)\n",
    "# print(a8)"
   ]
  },
  {
   "cell_type": "code",
   "execution_count": 14,
   "id": "9f2d82fa-e190-41e6-9336-173787c2e2e2",
   "metadata": {},
   "outputs": [
    {
     "name": "stdout",
     "output_type": "stream",
     "text": [
      "[ 1.  2.  3.  4.  5.  6.  7.  8.  9. 10.]\n",
      "[ 1.          2.28571429  3.57142857  4.85714286  6.14285714  7.42857143\n",
      "  8.71428571 10.        ]\n",
      "[0.         0.16534698 0.33069396 0.49604095 0.66138793 0.82673491\n",
      " 0.99208189 1.15742887 1.32277585 1.48812284 1.65346982 1.8188168\n",
      " 1.98416378 2.14951076 2.31485774 2.48020473 2.64555171 2.81089869\n",
      " 2.97624567 3.14159265]\n"
     ]
    }
   ],
   "source": [
    "a1 = np.linspace(1, 10, 10)\n",
    "print(a1)\n",
    "\n",
    "a2 = np.linspace(1, 10, 8)\n",
    "print(a2)\n",
    "\n",
    "a3 = np.linspace(0, np.pi, 20)\n",
    "print(a3)"
   ]
  },
  {
   "cell_type": "code",
   "execution_count": 15,
   "id": "ffaf7198-25d6-4d85-ac6c-9448ac05863d",
   "metadata": {},
   "outputs": [
    {
     "name": "stdout",
     "output_type": "stream",
     "text": [
      "[0 0 0 0 0 0 0 0 0 0]\n",
      "--------------------\n",
      "[[0 0 0 0]\n",
      " [0 0 0 0]\n",
      " [0 0 0 0]]\n",
      "--------------------\n",
      "[1. 1. 1. 1. 1.]\n",
      "--------------------\n",
      "[[1. 1. 1. 1. 1.]\n",
      " [1. 1. 1. 1. 1.]\n",
      " [1. 1. 1. 1. 1.]]\n",
      "--------------------\n",
      "[[1. 0. 0.]\n",
      " [0. 1. 0.]\n",
      " [0. 0. 1.]]\n"
     ]
    }
   ],
   "source": [
    "a1 = np.zeros(10, int)\n",
    "print(a1)\n",
    "print('-' * 20)\n",
    "a2 = np.zeros((3, 4), int)\n",
    "print(a2)\n",
    "print('-' * 20)\n",
    "a3 = np.ones(5)\n",
    "print(a3)\n",
    "print('-' * 20)\n",
    "a4 = np.ones((3, 5))\n",
    "print(a4)\n",
    "print('-' * 20)\n",
    "a5 = np.eye(3)\n",
    "print(a5)"
   ]
  },
  {
   "cell_type": "code",
   "execution_count": 16,
   "id": "c3253662-4d86-4cdf-9963-a598143d6721",
   "metadata": {},
   "outputs": [
    {
     "data": {
      "text/plain": [
       "array([[0, 0, 0, 0],\n",
       "       [0, 0, 0, 0],\n",
       "       [0, 0, 0, 0]])"
      ]
     },
     "execution_count": 16,
     "metadata": {},
     "output_type": "execute_result"
    }
   ],
   "source": [
    "np.zeros((3, 4), int)"
   ]
  },
  {
   "cell_type": "code",
   "execution_count": 17,
   "id": "5d304064-ccf1-4c88-a66a-08bdf78d28c9",
   "metadata": {},
   "outputs": [
    {
     "name": "stdout",
     "output_type": "stream",
     "text": [
      "['1.567' '0.123' '5.232' '5' '8']\n",
      "[1.567 0.123 5.232 5.    8.   ]\n",
      "float64\n"
     ]
    }
   ],
   "source": [
    "a1 = np.array(['1.567', '0.123', '5.232', '5', '8'])\n",
    "num = a1.astype(float)\n",
    "print(a1)\n",
    "print(num)\n",
    "print(num.dtype)"
   ]
  },
  {
   "cell_type": "code",
   "execution_count": 18,
   "id": "1e206958-295a-43ba-9ad6-5b232d831a21",
   "metadata": {},
   "outputs": [
    {
     "name": "stdout",
     "output_type": "stream",
     "text": [
      "[10.    20.     0.345  5.87   9.12 ]\n",
      "float64\n",
      "[10 20  0  5  9]\n",
      "int32\n"
     ]
    }
   ],
   "source": [
    "a1_f = np.array([10, 20, 0.345, 5.87, 9.12])\n",
    "a1_i= a1_f.astype(int)\n",
    "print(a1_f)\n",
    "print(a1_f.dtype)\n",
    "print(a1_i)\n",
    "print(a1_i.dtype)"
   ]
  },
  {
   "cell_type": "code",
   "execution_count": 21,
   "id": "3c14bfcd-fdf8-4197-a4a3-cdf911490550",
   "metadata": {},
   "outputs": [
    {
     "name": "stdout",
     "output_type": "stream",
     "text": [
      "[1, 2, 3, 4, 5, 10, 20, 30, 40, 50]\n"
     ]
    }
   ],
   "source": [
    "list01 = [1, 2, 3, 4, 5]\n",
    "list02 = [10, 20, 30, 40, 50]\n",
    "print(list01 + list02)"
   ]
  },
  {
   "cell_type": "code",
   "execution_count": 22,
   "id": "e8c0eb3e-b311-4c91-8b21-0c1b4a9e2677",
   "metadata": {},
   "outputs": [
    {
     "name": "stdout",
     "output_type": "stream",
     "text": [
      "[11 22 33 44]\n",
      "[ 9 18 27 36]\n",
      "[20 40 60 80]\n",
      "[ 100  400  900 1600]\n",
      "[ 10  40  90 160]\n",
      "[10. 10. 10. 10.]\n",
      "[10.          5.          3.33333333  2.5       ]\n",
      "[False False  True  True]\n"
     ]
    }
   ],
   "source": [
    "a1 = np.array([10, 20, 30, 40])\n",
    "a2 = np.array([1, 2, 3, 4])\n",
    "print(a1 + a2)\n",
    "print(a1 - a2)\n",
    "print(a1 * 2)\n",
    "print(a1 ** 2)\n",
    "print(a1 * a2)\n",
    "print(a1 / a2)\n",
    "print(a1 / (a2 ** 2))\n",
    "print(a1 > 20)"
   ]
  },
  {
   "cell_type": "code",
   "execution_count": 23,
   "id": "9cf97827-df18-44fe-b540-6d83ac6c4e4f",
   "metadata": {},
   "outputs": [
    {
     "name": "stdout",
     "output_type": "stream",
     "text": [
      "[10 20 30]\n",
      "[ 0 10 20]\n",
      "[20 30 40 50]\n",
      "[ 0 10 25 35 45 50]\n"
     ]
    }
   ],
   "source": [
    "a = np.array([0, 10, 20, 30, 40, 50])\n",
    "print(a[1:4])\n",
    "print(a[:3])\n",
    "print(a[2:])\n",
    "a[2:5] = np.array([25, 35, 45])\n",
    "print(a)"
   ]
  },
  {
   "cell_type": "code",
   "execution_count": 24,
   "id": "20dc77ae-4c42-4753-8147-2538604a88ca",
   "metadata": {},
   "outputs": [
    {
     "name": "stdout",
     "output_type": "stream",
     "text": [
      "[[10 20 30]\n",
      " [40 50 60]\n",
      " [70 80 90]]\n",
      "[[50 60]\n",
      " [80 90]]\n",
      "[[20 30]\n",
      " [50 60]\n",
      " [80 90]]\n",
      "[40 50]\n",
      "[[10 25 35]\n",
      " [40 55 65]\n",
      " [70 80 90]]\n"
     ]
    }
   ],
   "source": [
    "a = np.arange(10, 100, 10).reshape(3, 3)\n",
    "print(a)\n",
    "print(a[1:3, 1:3])\n",
    "print(a[:3, 1:])\n",
    "print(a[1][0:2])\n",
    "a[0:2, 1:3] = np.array([[25, 35], [55, 65]])\n",
    "print(a)"
   ]
  },
  {
   "cell_type": "code",
   "execution_count": null,
   "id": "377475ab-ef5c-48da-9b43-becec3b3c088",
   "metadata": {},
   "outputs": [],
   "source": []
  }
 ],
 "metadata": {
  "kernelspec": {
   "display_name": "Python 3 (ipykernel)",
   "language": "python",
   "name": "python3"
  },
  "language_info": {
   "codemirror_mode": {
    "name": "ipython",
    "version": 3
   },
   "file_extension": ".py",
   "mimetype": "text/x-python",
   "name": "python",
   "nbconvert_exporter": "python",
   "pygments_lexer": "ipython3",
   "version": "3.11.9"
  }
 },
 "nbformat": 4,
 "nbformat_minor": 5
}

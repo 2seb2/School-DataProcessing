{
 "cells": [
  {
   "cell_type": "code",
   "execution_count": 1,
   "id": "2ec9db8a-4842-4ea3-ba8b-278b183cf509",
   "metadata": {},
   "outputs": [],
   "source": [
    "import pandas as pd"
   ]
  },
  {
   "cell_type": "code",
   "execution_count": 2,
   "id": "5b5ef1ef-fd46-4e7a-ac45-0dc003437ddf",
   "metadata": {},
   "outputs": [
    {
     "name": "stdout",
     "output_type": "stream",
     "text": [
      "0    10\n",
      "1    20\n",
      "2    30\n",
      "3    40\n",
      "4    50\n",
      "dtype: int64\n"
     ]
    }
   ],
   "source": [
    "s1 = pd.Series([10, 20, 30, 40, 50])\n",
    "print(s1)"
   ]
  },
  {
   "cell_type": "code",
   "execution_count": 3,
   "id": "35a8edb1-d9f7-4145-be06-abcf69778f44",
   "metadata": {},
   "outputs": [
    {
     "name": "stdout",
     "output_type": "stream",
     "text": [
      "RangeIndex(start=0, stop=5, step=1)\n",
      "[10 20 30 40 50]\n"
     ]
    }
   ],
   "source": [
    "print(s1.index)\n",
    "print(s1.values)"
   ]
  },
  {
   "cell_type": "code",
   "execution_count": 4,
   "id": "c7ff99ce-8a7a-43c6-b05e-2721d7d642a3",
   "metadata": {},
   "outputs": [
    {
     "name": "stdout",
     "output_type": "stream",
     "text": [
      "<class 'numpy.ndarray'>\n"
     ]
    }
   ],
   "source": [
    "a = s1.values\n",
    "print(type(a))"
   ]
  },
  {
   "cell_type": "code",
   "execution_count": 5,
   "id": "fe69a91a-d3f1-4167-b305-df4ef69f240a",
   "metadata": {},
   "outputs": [
    {
     "name": "stdout",
     "output_type": "stream",
     "text": [
      "0    a\n",
      "1    b\n",
      "2    c\n",
      "3    1\n",
      "4    2\n",
      "5    3\n",
      "dtype: object\n"
     ]
    }
   ],
   "source": [
    "s2 = pd.Series(['a', 'b', 'c', 1, 2, 3])\n",
    "print(s2)"
   ]
  },
  {
   "cell_type": "code",
   "execution_count": 6,
   "id": "e9aa3141-ed10-488a-8f54-86d0d01fafc4",
   "metadata": {},
   "outputs": [
    {
     "name": "stdout",
     "output_type": "stream",
     "text": [
      "<class 'numpy.ndarray'>\n"
     ]
    }
   ],
   "source": [
    "a = s2.values\n",
    "print(type(a))"
   ]
  },
  {
   "cell_type": "code",
   "execution_count": 7,
   "id": "cd6b203d-7a20-4c42-8b67-235f12e2893f",
   "metadata": {},
   "outputs": [
    {
     "data": {
      "text/plain": [
       "dtype('O')"
      ]
     },
     "execution_count": 7,
     "metadata": {},
     "output_type": "execute_result"
    }
   ],
   "source": [
    "a.dtype"
   ]
  },
  {
   "cell_type": "code",
   "execution_count": 9,
   "id": "87be14b5-ac6f-4f15-b555-a8920c505c75",
   "metadata": {},
   "outputs": [
    {
     "name": "stdout",
     "output_type": "stream",
     "text": [
      "2020-03-20    200.0\n",
      "2020-03-21    187.0\n",
      "2020-03-22      NaN\n",
      "2020-03-23    210.0\n",
      "dtype: float64\n"
     ]
    }
   ],
   "source": [
    "import numpy as np\n",
    "\n",
    "index_date = ['2020-03-20', '2020-03-21', '2020-03-22', '2020-03-23']\n",
    "s4 = pd.Series([200, 187, np.nan, 210], index=index_date)\n",
    "print(s4)"
   ]
  },
  {
   "cell_type": "code",
   "execution_count": 10,
   "id": "1350a2c7-1434-48c5-8283-ddaf3f09f8f6",
   "metadata": {},
   "outputs": [
    {
     "name": "stdout",
     "output_type": "stream",
     "text": [
      "국어    100\n",
      "영어     95\n",
      "수학    100\n",
      "dtype: int64\n"
     ]
    }
   ],
   "source": [
    "s5 = pd.Series({'국어':100, '영어':95, '수학':100})\n",
    "print(s5)"
   ]
  },
  {
   "cell_type": "code",
   "execution_count": 11,
   "id": "8a987a89-5849-440c-b8ee-3970c6d573cc",
   "metadata": {},
   "outputs": [
    {
     "name": "stdout",
     "output_type": "stream",
     "text": [
      "             A   B   C\n",
      "2020-05-01   1   2   3\n",
      "2020-05-02   4   5   6\n",
      "2020-05-03   7   8   9\n",
      "2020-05-04  10  11  12\n"
     ]
    }
   ],
   "source": [
    "data = np.array([[1, 2, 3], [4, 5, 6], [7, 8, 9], [10, 11, 12]])\n",
    "index_date = pd.date_range('2020-05-01', periods=4)\n",
    "columns_list = ['A', 'B', 'C']\n",
    "df = pd.DataFrame(data, index=index_date, columns=columns_list)\n",
    "print(df)"
   ]
  },
  {
   "cell_type": "code",
   "execution_count": 12,
   "id": "b14ea0a6-5c2f-47a6-bc4d-aec1b49f3977",
   "metadata": {},
   "outputs": [
    {
     "name": "stdout",
     "output_type": "stream",
     "text": [
      "     연도  지사  고객 수\n",
      "0  2015  서울   200\n",
      "1  2016  서울   250\n",
      "2  2016  부산   150\n",
      "3  2017  서울   300\n",
      "4  2017  부산   200\n"
     ]
    }
   ],
   "source": [
    "data = {'연도': [2015, 2016, 2016, 2017, 2017], '지사': ['서울', '서울', '부산', '서울', '부산'],\n",
    "        '고객 수': [200, 250, 150, 300, 200]}\n",
    "df = pd.DataFrame(data)\n",
    "print(df)"
   ]
  },
  {
   "cell_type": "code",
   "execution_count": 13,
   "id": "4a0758be-b800-44d9-b330-5d316b4deb9b",
   "metadata": {},
   "outputs": [
    {
     "name": "stdout",
     "output_type": "stream",
     "text": [
      "RangeIndex(start=0, stop=5, step=1)\n",
      "Index(['연도', '지사', '고객 수'], dtype='object')\n",
      "[[2015 '서울' 200]\n",
      " [2016 '서울' 250]\n",
      " [2016 '부산' 150]\n",
      " [2017 '서울' 300]\n",
      " [2017 '부산' 200]]\n"
     ]
    }
   ],
   "source": [
    "print(df.index)\n",
    "print(df.columns)\n",
    "print(df.values)"
   ]
  },
  {
   "cell_type": "code",
   "execution_count": 14,
   "id": "76362f56-fe11-44dd-ac66-9aa9d7910fd9",
   "metadata": {},
   "outputs": [
    {
     "name": "stdout",
     "output_type": "stream",
     "text": [
      "0    11.0\n",
      "1    22.0\n",
      "2    33.0\n",
      "3    44.0\n",
      "4     NaN\n",
      "dtype: float64\n"
     ]
    }
   ],
   "source": [
    "s3 = pd.Series([1, 2, 3, 4])\n",
    "s4 = pd.Series([10, 20, 30, 40, 50])\n",
    "print(s3 + s4)"
   ]
  },
  {
   "cell_type": "code",
   "execution_count": 15,
   "id": "7909fce9-7f47-40cd-95d3-c4e5bbdd032c",
   "metadata": {},
   "outputs": [
    {
     "name": "stdout",
     "output_type": "stream",
     "text": [
      "   A   B    C\n",
      "0  1  10  100\n",
      "1  2  20  200\n",
      "2  3  30  300\n",
      "3  4  40  400\n",
      "4  5  50  500\n",
      "   A   B    C\n",
      "0  6  60  600\n",
      "1  7  70  700\n",
      "2  8  80  800\n",
      "====================\n",
      "      A      B       C\n",
      "0   7.0   70.0   700.0\n",
      "1   9.0   90.0   900.0\n",
      "2  11.0  110.0  1100.0\n",
      "3   NaN    NaN     NaN\n",
      "4   NaN    NaN     NaN\n"
     ]
    }
   ],
   "source": [
    "data1 = {'A': [1, 2, 3, 4, 5],\n",
    "         'B': [10, 20, 30, 40, 50],\n",
    "         'C': [100, 200, 300, 400, 500]}\n",
    "df1 = pd.DataFrame(data1)\n",
    "print(df1)\n",
    "\n",
    "data2 = {'A': [6, 7, 8],\n",
    "         'B': [60, 70, 80],\n",
    "         'C': [600, 700, 800]}\n",
    "df2 = pd.DataFrame(data2)\n",
    "print(df2)\n",
    "print('='*20)\n",
    "print(df1 + df2)"
   ]
  },
  {
   "cell_type": "code",
   "execution_count": 16,
   "id": "dc4c3549-887d-4d7a-adb6-017325711c25",
   "metadata": {},
   "outputs": [
    {
     "name": "stdout",
     "output_type": "stream",
     "text": [
      "          봄     여름     가을     겨울\n",
      "2012  256.5  770.6  363.5  139.3\n",
      "2013  264.3  567.5  231.2   59.9\n",
      "2014  215.9  599.8  293.1   76.9\n",
      "2015  223.2  387.1  247.7  109.1\n",
      "2016  312.8  446.2  381.6  108.1\n",
      "==============================\n",
      "봄     254.54\n",
      "여름    554.24\n",
      "가을    303.42\n",
      "겨울     98.66\n",
      "dtype: float64\n",
      "==============================\n",
      "봄      38.628267\n",
      "여름    148.888895\n",
      "가을     67.358496\n",
      "겨울     30.925523\n",
      "dtype: float64\n",
      "==============================\n",
      "2012    382.475\n",
      "2013    280.725\n",
      "2014    296.425\n",
      "2015    241.775\n",
      "2016    312.175\n",
      "dtype: float64\n",
      "==============================\n",
      "2012    274.472128\n",
      "2013    211.128782\n",
      "2014    221.150739\n",
      "2015    114.166760\n",
      "2016    146.548658\n",
      "dtype: float64\n",
      "==============================\n",
      "                봄          여름          가을          겨울\n",
      "count    5.000000    5.000000    5.000000    5.000000\n",
      "mean   254.540000  554.240000  303.420000   98.660000\n",
      "std     38.628267  148.888895   67.358496   30.925523\n",
      "min    215.900000  387.100000  231.200000   59.900000\n",
      "25%    223.200000  446.200000  247.700000   76.900000\n",
      "50%    256.500000  567.500000  293.100000  108.100000\n",
      "75%    264.300000  599.800000  363.500000  109.100000\n",
      "max    312.800000  770.600000  381.600000  139.300000\n"
     ]
    }
   ],
   "source": [
    "table_data3 = {'봄':  [256.5, 264.3, 215.9, 223.2, 312.8],\n",
    "              '여름': [770.6, 567.5, 599.8, 387.1, 446.2],\n",
    "              '가을': [363.5, 231.2, 293.1, 247.7, 381.6],\n",
    "              '겨울': [139.3, 59.9, 76.9, 109.1, 108.1]}\n",
    "columns_list = ['봄', '여름', '가을', '겨울']\n",
    "index_list = ['2012', '2013', '2014', '2015', '2016']\n",
    "\n",
    "df3 = pd.DataFrame(table_data3, columns = columns_list, index = index_list)\n",
    "print(df3)\n",
    "print('='*30)\n",
    "print(df3.mean()) # 계절별\n",
    "print('='*30)\n",
    "print(df3.std())  # 계절별\n",
    "print('='*30)\n",
    "print(df3.mean(axis=1)) # 연도별\n",
    "print('='*30)\n",
    "print(df3.std(axis=1)) # 연도별\n",
    "print('='*30)\n",
    "print(df3.describe())"
   ]
  },
  {
   "cell_type": "code",
   "execution_count": 17,
   "id": "0b1b8d7a-76bf-437f-89eb-9da58b9d0460",
   "metadata": {},
   "outputs": [
    {
     "name": "stdout",
     "output_type": "stream",
     "text": [
      "      경부선 KTX  호남선 KTX  경전선 KTX  전라선 KTX  동해선 KTX\n",
      "2011    39060     7313     3627      309      NaN\n",
      "2012    39896     6967     4168     1771      NaN\n",
      "2013    42005     6873     4088     1954      NaN\n",
      "2014    43621     6626     4424     2244      NaN\n",
      "2015    41702     8675     4606     3146   2395.0\n",
      "2016    41266    10622     4984     3945   3786.0\n",
      "2017    32427     9228     5570     5766   6667.0\n"
     ]
    }
   ],
   "source": [
    "KTX_data = {'경부선 KTX': [39060, 39896, 42005, 43621, 41702, 41266, 32427],\n",
    "            '호남선 KTX': [7313, 6967, 6873, 6626, 8675, 10622, 9228],\n",
    "            '경전선 KTX': [3627, 4168, 4088, 4424, 4606, 4984, 5570],\n",
    "            '전라선 KTX': [309, 1771, 1954, 2244, 3146, 3945, 5766],\n",
    "            '동해선 KTX': [np.nan,np.nan, np.nan, np.nan, 2395, 3786, 6667]}\n",
    "col_list = ['경부선 KTX','호남선 KTX','경전선 KTX','전라선 KTX','동해선 KTX']\n",
    "index_list = ['2011', '2012', '2013', '2014', '2015', '2016', '2017']\n",
    "\n",
    "df_KTX = pd.DataFrame(KTX_data, columns = col_list, index = index_list)\n",
    "print(df_KTX)"
   ]
  },
  {
   "cell_type": "code",
   "execution_count": 18,
   "id": "7f5a4670-1fe2-48a9-9897-b83e37c97712",
   "metadata": {},
   "outputs": [
    {
     "data": {
      "text/html": [
       "<div>\n",
       "<style scoped>\n",
       "    .dataframe tbody tr th:only-of-type {\n",
       "        vertical-align: middle;\n",
       "    }\n",
       "\n",
       "    .dataframe tbody tr th {\n",
       "        vertical-align: top;\n",
       "    }\n",
       "\n",
       "    .dataframe thead th {\n",
       "        text-align: right;\n",
       "    }\n",
       "</style>\n",
       "<table border=\"1\" class=\"dataframe\">\n",
       "  <thead>\n",
       "    <tr style=\"text-align: right;\">\n",
       "      <th></th>\n",
       "      <th>경부선 KTX</th>\n",
       "      <th>호남선 KTX</th>\n",
       "      <th>경전선 KTX</th>\n",
       "      <th>전라선 KTX</th>\n",
       "      <th>동해선 KTX</th>\n",
       "    </tr>\n",
       "  </thead>\n",
       "  <tbody>\n",
       "    <tr>\n",
       "      <th>2012</th>\n",
       "      <td>39896</td>\n",
       "      <td>6967</td>\n",
       "      <td>4168</td>\n",
       "      <td>1771</td>\n",
       "      <td>NaN</td>\n",
       "    </tr>\n",
       "  </tbody>\n",
       "</table>\n",
       "</div>"
      ],
      "text/plain": [
       "      경부선 KTX  호남선 KTX  경전선 KTX  전라선 KTX  동해선 KTX\n",
       "2012    39896     6967     4168     1771      NaN"
      ]
     },
     "execution_count": 18,
     "metadata": {},
     "output_type": "execute_result"
    }
   ],
   "source": [
    "df_KTX[1:2]"
   ]
  },
  {
   "cell_type": "code",
   "execution_count": 19,
   "id": "d1c4991b-63d1-49f1-a1e9-53c31aa3e4d3",
   "metadata": {},
   "outputs": [
    {
     "data": {
      "text/html": [
       "<div>\n",
       "<style scoped>\n",
       "    .dataframe tbody tr th:only-of-type {\n",
       "        vertical-align: middle;\n",
       "    }\n",
       "\n",
       "    .dataframe tbody tr th {\n",
       "        vertical-align: top;\n",
       "    }\n",
       "\n",
       "    .dataframe thead th {\n",
       "        text-align: right;\n",
       "    }\n",
       "</style>\n",
       "<table border=\"1\" class=\"dataframe\">\n",
       "  <thead>\n",
       "    <tr style=\"text-align: right;\">\n",
       "      <th></th>\n",
       "      <th>경부선 KTX</th>\n",
       "      <th>호남선 KTX</th>\n",
       "      <th>경전선 KTX</th>\n",
       "      <th>전라선 KTX</th>\n",
       "      <th>동해선 KTX</th>\n",
       "    </tr>\n",
       "  </thead>\n",
       "  <tbody>\n",
       "    <tr>\n",
       "      <th>2013</th>\n",
       "      <td>42005</td>\n",
       "      <td>6873</td>\n",
       "      <td>4088</td>\n",
       "      <td>1954</td>\n",
       "      <td>NaN</td>\n",
       "    </tr>\n",
       "    <tr>\n",
       "      <th>2014</th>\n",
       "      <td>43621</td>\n",
       "      <td>6626</td>\n",
       "      <td>4424</td>\n",
       "      <td>2244</td>\n",
       "      <td>NaN</td>\n",
       "    </tr>\n",
       "    <tr>\n",
       "      <th>2015</th>\n",
       "      <td>41702</td>\n",
       "      <td>8675</td>\n",
       "      <td>4606</td>\n",
       "      <td>3146</td>\n",
       "      <td>2395.0</td>\n",
       "    </tr>\n",
       "  </tbody>\n",
       "</table>\n",
       "</div>"
      ],
      "text/plain": [
       "      경부선 KTX  호남선 KTX  경전선 KTX  전라선 KTX  동해선 KTX\n",
       "2013    42005     6873     4088     1954      NaN\n",
       "2014    43621     6626     4424     2244      NaN\n",
       "2015    41702     8675     4606     3146   2395.0"
      ]
     },
     "execution_count": 19,
     "metadata": {},
     "output_type": "execute_result"
    }
   ],
   "source": [
    "df_KTX[2:5]"
   ]
  },
  {
   "cell_type": "code",
   "execution_count": 20,
   "id": "6784c70f-0b84-4c27-8bed-7c628500b061",
   "metadata": {},
   "outputs": [
    {
     "data": {
      "text/plain": [
       "경부선 KTX    39060.0\n",
       "호남선 KTX     7313.0\n",
       "경전선 KTX     3627.0\n",
       "전라선 KTX      309.0\n",
       "동해선 KTX        NaN\n",
       "Name: 2011, dtype: float64"
      ]
     },
     "execution_count": 20,
     "metadata": {},
     "output_type": "execute_result"
    }
   ],
   "source": [
    "df_KTX.loc['2011']"
   ]
  },
  {
   "cell_type": "code",
   "execution_count": 21,
   "id": "044ec2bf-e731-47c7-b356-c19627334e7f",
   "metadata": {},
   "outputs": [
    {
     "data": {
      "text/html": [
       "<div>\n",
       "<style scoped>\n",
       "    .dataframe tbody tr th:only-of-type {\n",
       "        vertical-align: middle;\n",
       "    }\n",
       "\n",
       "    .dataframe tbody tr th {\n",
       "        vertical-align: top;\n",
       "    }\n",
       "\n",
       "    .dataframe thead th {\n",
       "        text-align: right;\n",
       "    }\n",
       "</style>\n",
       "<table border=\"1\" class=\"dataframe\">\n",
       "  <thead>\n",
       "    <tr style=\"text-align: right;\">\n",
       "      <th></th>\n",
       "      <th>경부선 KTX</th>\n",
       "      <th>호남선 KTX</th>\n",
       "      <th>경전선 KTX</th>\n",
       "      <th>전라선 KTX</th>\n",
       "      <th>동해선 KTX</th>\n",
       "    </tr>\n",
       "  </thead>\n",
       "  <tbody>\n",
       "    <tr>\n",
       "      <th>2013</th>\n",
       "      <td>42005</td>\n",
       "      <td>6873</td>\n",
       "      <td>4088</td>\n",
       "      <td>1954</td>\n",
       "      <td>NaN</td>\n",
       "    </tr>\n",
       "    <tr>\n",
       "      <th>2014</th>\n",
       "      <td>43621</td>\n",
       "      <td>6626</td>\n",
       "      <td>4424</td>\n",
       "      <td>2244</td>\n",
       "      <td>NaN</td>\n",
       "    </tr>\n",
       "    <tr>\n",
       "      <th>2015</th>\n",
       "      <td>41702</td>\n",
       "      <td>8675</td>\n",
       "      <td>4606</td>\n",
       "      <td>3146</td>\n",
       "      <td>2395.0</td>\n",
       "    </tr>\n",
       "    <tr>\n",
       "      <th>2016</th>\n",
       "      <td>41266</td>\n",
       "      <td>10622</td>\n",
       "      <td>4984</td>\n",
       "      <td>3945</td>\n",
       "      <td>3786.0</td>\n",
       "    </tr>\n",
       "  </tbody>\n",
       "</table>\n",
       "</div>"
      ],
      "text/plain": [
       "      경부선 KTX  호남선 KTX  경전선 KTX  전라선 KTX  동해선 KTX\n",
       "2013    42005     6873     4088     1954      NaN\n",
       "2014    43621     6626     4424     2244      NaN\n",
       "2015    41702     8675     4606     3146   2395.0\n",
       "2016    41266    10622     4984     3945   3786.0"
      ]
     },
     "execution_count": 21,
     "metadata": {},
     "output_type": "execute_result"
    }
   ],
   "source": [
    "df_KTX.loc['2013':'2016']"
   ]
  },
  {
   "cell_type": "code",
   "execution_count": 22,
   "id": "35ab5ce7-f846-4358-b657-a4aebbc496f9",
   "metadata": {},
   "outputs": [
    {
     "data": {
      "text/plain": [
       "2011    39060\n",
       "2012    39896\n",
       "2013    42005\n",
       "2014    43621\n",
       "2015    41702\n",
       "2016    41266\n",
       "2017    32427\n",
       "Name: 경부선 KTX, dtype: int64"
      ]
     },
     "execution_count": 22,
     "metadata": {},
     "output_type": "execute_result"
    }
   ],
   "source": [
    "df_KTX['경부선 KTX']"
   ]
  },
  {
   "cell_type": "code",
   "execution_count": 23,
   "id": "a5092c56-b22f-4c16-aa7f-0d2c73a2c3fd",
   "metadata": {},
   "outputs": [
    {
     "name": "stdout",
     "output_type": "stream",
     "text": [
      "10622.0\n",
      "========================================\n",
      "10622\n",
      "========================================\n",
      "10622\n",
      "========================================\n",
      "10622\n",
      "========================================\n",
      "10622\n"
     ]
    }
   ],
   "source": [
    "print(df_KTX.loc['2016']['호남선 KTX'])\n",
    "print('='*40)\n",
    "print(df_KTX.loc['2016','호남선 KTX'])\n",
    "print('='*40)\n",
    "print(df_KTX['호남선 KTX']['2016'])\n",
    "print('='*40)\n",
    "print(df_KTX['호남선 KTX'].iloc[5])\n",
    "print('='*40)\n",
    "print(df_KTX['호남선 KTX'].loc['2016'])"
   ]
  },
  {
   "cell_type": "code",
   "execution_count": 24,
   "id": "d1658338-0abd-470d-aff2-661461bca71e",
   "metadata": {},
   "outputs": [
    {
     "name": "stdout",
     "output_type": "stream",
     "text": [
      "            2011     2012     2013     2014     2015     2016     2017\n",
      "경부선 KTX  39060.0  39896.0  42005.0  43621.0  41702.0  41266.0  32427.0\n",
      "호남선 KTX   7313.0   6967.0   6873.0   6626.0   8675.0  10622.0   9228.0\n",
      "경전선 KTX   3627.0   4168.0   4088.0   4424.0   4606.0   4984.0   5570.0\n",
      "전라선 KTX    309.0   1771.0   1954.0   2244.0   3146.0   3945.0   5766.0\n",
      "동해선 KTX      NaN      NaN      NaN      NaN   2395.0   3786.0   6667.0\n"
     ]
    }
   ],
   "source": [
    "print(df_KTX.T)"
   ]
  },
  {
   "cell_type": "code",
   "execution_count": null,
   "id": "3d247432-b0dd-4cb6-8a26-3839be674f56",
   "metadata": {},
   "outputs": [],
   "source": []
  },
  {
   "cell_type": "code",
   "execution_count": null,
   "id": "99f30656-71dd-4d98-9bf4-2707e7120662",
   "metadata": {},
   "outputs": [],
   "source": []
  },
  {
   "cell_type": "code",
   "execution_count": null,
   "id": "c04de6a6-ed87-4a52-b872-3a8e03975128",
   "metadata": {},
   "outputs": [],
   "source": []
  }
 ],
 "metadata": {
  "kernelspec": {
   "display_name": "Python 3 (ipykernel)",
   "language": "python",
   "name": "python3"
  },
  "language_info": {
   "codemirror_mode": {
    "name": "ipython",
    "version": 3
   },
   "file_extension": ".py",
   "mimetype": "text/x-python",
   "name": "python",
   "nbconvert_exporter": "python",
   "pygments_lexer": "ipython3",
   "version": "3.11.9"
  }
 },
 "nbformat": 4,
 "nbformat_minor": 5
}
